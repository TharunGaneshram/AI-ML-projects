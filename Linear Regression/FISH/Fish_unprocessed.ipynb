{
 "cells": [
  {
   "cell_type": "code",
   "execution_count": 1,
   "id": "dbdf0d44-4942-498d-b40d-b86f5fb2f560",
   "metadata": {},
   "outputs": [],
   "source": [
    "#import pandas to read spreadsheet data\n",
    "import pandas as pd\n",
    "#import splitting function\n",
    "from sklearn.model_selection import train_test_split\n",
    "#import linear regression class\n",
    "from sklearn.linear_model import LinearRegression\n",
    "#import matplot to plot the predicted data compaired to true values\n",
    "import matplotlib.pyplot as plt\n",
    "#import r-squared value metric to check accuracy of predictions\n",
    "from sklearn.metrics import r2_score"
   ]
  },
  {
   "cell_type": "code",
   "execution_count": 2,
   "id": "071611c9-5e2c-4f89-99ef-d0572aaab4aa",
   "metadata": {},
   "outputs": [
    {
     "name": "stdout",
     "output_type": "stream",
     "text": [
      "    Species  Weight  Length1  Length2  Length3   Height   Width\n",
      "0     Bream   242.0     23.2     25.4     30.0  11.5200  4.0200\n",
      "1     Bream   290.0     24.0     26.3     31.2  12.4800  4.3056\n",
      "2     Bream   340.0     23.9     26.5     31.1  12.3778  4.6961\n",
      "3     Bream   363.0     26.3     29.0     33.5  12.7300  4.4555\n",
      "4     Bream   430.0     26.5     29.0     34.0  12.4440  5.1340\n",
      "..      ...     ...      ...      ...      ...      ...     ...\n",
      "154   Smelt    12.2     11.5     12.2     13.4   2.0904  1.3936\n",
      "155   Smelt    13.4     11.7     12.4     13.5   2.4300  1.2690\n",
      "156   Smelt    12.2     12.1     13.0     13.8   2.2770  1.2558\n",
      "157   Smelt    19.7     13.2     14.3     15.2   2.8728  2.0672\n",
      "158   Smelt    19.9     13.8     15.0     16.2   2.9322  1.8792\n",
      "\n",
      "[159 rows x 7 columns]\n"
     ]
    }
   ],
   "source": [
    "#read file data and save to a variable\n",
    "data = pd.read_csv('Fish.csv')\n",
    "print (data)"
   ]
  },
  {
   "cell_type": "code",
   "execution_count": 3,
   "id": "db89beca-08cc-4f5d-b4d9-c17504dd708e",
   "metadata": {},
   "outputs": [
    {
     "name": "stdout",
     "output_type": "stream",
     "text": [
      "     Species  Weight  Length1  Length2  Length3   Height   Width\n",
      "0          0   242.0     23.2     25.4     30.0  11.5200  4.0200\n",
      "1          0   290.0     24.0     26.3     31.2  12.4800  4.3056\n",
      "2          0   340.0     23.9     26.5     31.1  12.3778  4.6961\n",
      "3          0   363.0     26.3     29.0     33.5  12.7300  4.4555\n",
      "4          0   430.0     26.5     29.0     34.0  12.4440  5.1340\n",
      "..       ...     ...      ...      ...      ...      ...     ...\n",
      "154        5    12.2     11.5     12.2     13.4   2.0904  1.3936\n",
      "155        5    13.4     11.7     12.4     13.5   2.4300  1.2690\n",
      "156        5    12.2     12.1     13.0     13.8   2.2770  1.2558\n",
      "157        5    19.7     13.2     14.3     15.2   2.8728  2.0672\n",
      "158        5    19.9     13.8     15.0     16.2   2.9322  1.8792\n",
      "\n",
      "[159 rows x 7 columns]\n"
     ]
    }
   ],
   "source": [
    "#manipulate data and convert categoric species into numeric value\n",
    "data['Species'] = data['Species'].astype('category')\n",
    "data['Species'] = data['Species'].cat.codes\n",
    "print(data)"
   ]
  },
  {
   "cell_type": "code",
   "execution_count": 4,
   "id": "aef09481-a48d-46f4-9675-556642d2acde",
   "metadata": {},
   "outputs": [
    {
     "data": {
      "text/plain": [
       "Species    0\n",
       "Weight     0\n",
       "Length1    0\n",
       "Length2    0\n",
       "Length3    0\n",
       "Height     0\n",
       "Width      0\n",
       "dtype: int64"
      ]
     },
     "execution_count": 4,
     "metadata": {},
     "output_type": "execute_result"
    }
   ],
   "source": [
    "#check for any null values\n",
    "data.isnull().sum()\n",
    "#none means ready for regression"
   ]
  },
  {
   "cell_type": "code",
   "execution_count": 5,
   "id": "19444e05-3fa5-4823-bd3d-7ea69a0bb4fc",
   "metadata": {},
   "outputs": [
    {
     "name": "stdout",
     "output_type": "stream",
     "text": [
      "     Species  Length1  Length2  Length3   Height   Width\n",
      "0          0     23.2     25.4     30.0  11.5200  4.0200\n",
      "1          0     24.0     26.3     31.2  12.4800  4.3056\n",
      "2          0     23.9     26.5     31.1  12.3778  4.6961\n",
      "3          0     26.3     29.0     33.5  12.7300  4.4555\n",
      "4          0     26.5     29.0     34.0  12.4440  5.1340\n",
      "..       ...      ...      ...      ...      ...     ...\n",
      "154        5     11.5     12.2     13.4   2.0904  1.3936\n",
      "155        5     11.7     12.4     13.5   2.4300  1.2690\n",
      "156        5     12.1     13.0     13.8   2.2770  1.2558\n",
      "157        5     13.2     14.3     15.2   2.8728  2.0672\n",
      "158        5     13.8     15.0     16.2   2.9322  1.8792\n",
      "\n",
      "[159 rows x 6 columns]\n",
      "0      242.0\n",
      "1      290.0\n",
      "2      340.0\n",
      "3      363.0\n",
      "4      430.0\n",
      "       ...  \n",
      "154     12.2\n",
      "155     13.4\n",
      "156     12.2\n",
      "157     19.7\n",
      "158     19.9\n",
      "Name: Weight, Length: 159, dtype: float64\n"
     ]
    }
   ],
   "source": [
    "#Set X to be all independent variables/features x1 through xn\n",
    "X = data.drop(columns = 'Weight')\n",
    "#set Y to be the dependent variable\n",
    "Y = data['Weight']\n",
    "print (X)\n",
    "print (Y)"
   ]
  },
  {
   "cell_type": "code",
   "execution_count": 6,
   "id": "15fb1e0d-bde0-4380-862c-493456677490",
   "metadata": {},
   "outputs": [],
   "source": [
    "#split the data into a training set and testing set for associated X and Y values 20% saved for testing (random state is given to make split reproduceable)\n",
    "X_train, X_test, Y_train, Y_test = train_test_split(X,Y, test_size = 0.2, random_state = 0)"
   ]
  },
  {
   "cell_type": "code",
   "execution_count": 7,
   "id": "10713be4-046e-4ef4-9bd8-be4a4f4a0859",
   "metadata": {},
   "outputs": [
    {
     "data": {
      "text/plain": [
       "LinearRegression()"
      ]
     },
     "execution_count": 7,
     "metadata": {},
     "output_type": "execute_result"
    }
   ],
   "source": [
    "#create linear regression type object\n",
    "lr = LinearRegression()\n",
    "#fit it to the training set\n",
    "lr.fit(X_train, Y_train)"
   ]
  },
  {
   "cell_type": "code",
   "execution_count": 8,
   "id": "7779e179-3fd2-42a7-a3ab-82e8f39e686e",
   "metadata": {},
   "outputs": [
    {
     "name": "stdout",
     "output_type": "stream",
     "text": [
      "-598.4423212004818\n",
      "[ 36.26377312  40.77065826  36.70419066 -53.36938011  53.29669043\n",
      "  -2.49236556]\n"
     ]
    }
   ],
   "source": [
    "#set variables for the constant (value c) and the coefficients/weights (array of values w)\n",
    "b = lr.intercept_\n",
    "w = lr.coef_\n",
    "print(b)\n",
    "print(w)"
   ]
  },
  {
   "cell_type": "code",
   "execution_count": 9,
   "id": "ca967e1d-c756-48d8-9fb5-2af9e16ab84f",
   "metadata": {},
   "outputs": [
    {
     "name": "stdout",
     "output_type": "stream",
     "text": [
      "[ 1.07645211e+03  3.62927194e+02  5.87013713e+02  2.70434776e+02\n",
      "  4.10520808e+02  6.47512199e+02  6.86220592e+02  1.47142620e+02\n",
      "  6.26495581e+02 -6.88818017e+01  2.21254193e+02  7.06997152e+02\n",
      " -1.73369036e+01  2.69964160e+02  3.12697352e+02  3.43372405e+02\n",
      "  6.51295189e+02  4.16156537e+02  8.33641866e+02 -1.14916036e+02\n",
      " -6.49148062e+01  3.36841119e+02  7.53702337e+01  1.67606008e+02\n",
      "  4.18238285e+02  5.12741228e+02 -1.32268857e+02  5.68133279e+02\n",
      " -1.01738489e+02 -1.40897751e+02  1.80886062e+02  1.67922551e+02\n",
      "  1.36007082e+02 -1.64583287e+02  1.05184141e+03  9.07352234e+02\n",
      "  7.63579882e+02  2.63831881e+02  2.48632672e+02  2.07821675e+02\n",
      "  1.51923311e+02  8.37824126e+02  3.95025872e+02  3.11691655e+02\n",
      "  2.36995191e+02  2.64820554e+02  5.17016573e+02  7.64095386e+02\n",
      "  6.25059941e+02  6.85964378e+02  6.09949002e+02  5.98295100e+02\n",
      "  7.93501733e+01  3.82928020e+02  2.69786755e+00  4.17735421e+02\n",
      " -1.69165672e+01  6.25433091e+02  4.85646639e+02  2.59067773e+02\n",
      "  5.00461649e-01  1.12955343e+02  6.81398432e+02  5.23953574e+02\n",
      "  8.29162126e+02  5.73540696e+02  8.90532285e+02  1.57935973e+02\n",
      "  6.81398177e+02  2.35212589e+02  5.31482235e+02  4.02613334e+02\n",
      " -5.91212572e+01  5.02979690e+02  1.76201501e+02 -7.91132754e+01\n",
      "  1.92361210e+02  3.34660599e+02  3.27202373e+02 -1.46104428e+02\n",
      "  1.61174580e+02  3.53418600e+02  3.82270939e+02  6.71417323e+02\n",
      "  5.80694739e+02  7.59052981e+02  3.41672640e+02  1.22015416e+02\n",
      "  4.45090313e+02  3.68537832e+02 -1.07356753e+02  8.80582946e+02\n",
      "  2.82600554e+02  8.97434944e+02  7.24731025e+02  4.39996613e+02\n",
      "  6.97830381e+02  8.41524719e+02  5.34032946e+02  9.24410753e+02\n",
      "  7.62083003e+02  8.92352192e+02  8.45782463e+02  2.49149968e+02\n",
      "  1.13235734e+02  8.74259659e+01  6.92957145e+02 -1.07681412e+02\n",
      " -2.72416822e+02  4.06112173e+01  6.56750706e+02  9.33829797e+01\n",
      " -1.23726374e+02 -1.07650603e+02  1.76614604e+02  6.60639804e+02\n",
      "  8.96881637e+02  1.59667342e+02  3.79434056e+02  1.34617898e+02\n",
      "  7.92956333e+01  6.76640078e+02  5.04238591e+02  3.47833738e+02\n",
      "  2.26346827e+02  7.62767603e+02  2.30111277e+02]\n"
     ]
    }
   ],
   "source": [
    "#predict outputs of dependent variables for X dataset of feature values using developed linear regression function\n",
    "Y_pred_train = lr.predict(X_train)\n",
    "print(Y_pred_train)"
   ]
  },
  {
   "cell_type": "code",
   "execution_count": 10,
   "id": "b6f0db38-af73-48a5-b9bd-afa4881dd189",
   "metadata": {},
   "outputs": [
    {
     "data": {
      "image/png": "[encoded data removed]",
      "text/plain": [
       "<Figure size 640x480 with 1 Axes>"
      ]
     },
     "metadata": {},
     "output_type": "display_data"
    }
   ],
   "source": [
    "#plot the predicted y-values against true y-values\n",
    "plt.scatter(Y_train, Y_pred_train)\n",
    "plt.xlabel(\"True Training Weights\")\n",
    "plt.ylabel(\"Predicted Training Weights\")\n",
    "plt.show()"
   ]
  },
  {
   "cell_type": "code",
   "execution_count": 11,
   "id": "4b829601-43c3-4db6-b0e1-17d73305073e",
   "metadata": {},
   "outputs": [
    {
     "data": {
      "text/plain": [
       "0.8967797666316315"
      ]
     },
     "execution_count": 11,
     "metadata": {},
     "output_type": "execute_result"
    }
   ],
   "source": [
    "#check accuracy of predictions using r-squared value\n",
    "r2_score(Y_train, Y_pred_train)"
   ]
  },
  {
   "cell_type": "code",
   "execution_count": 12,
   "id": "a79588b3-b5b0-4b4d-869a-f4f4cc7b1e34",
   "metadata": {},
   "outputs": [
    {
     "name": "stdout",
     "output_type": "stream",
     "text": [
      "[ 423.60513597  193.62263768  204.12102611  223.34559697  627.77601347\n",
      "  789.73138993  826.16580976  499.26498584  957.9859744   125.84434988\n",
      "  350.10241955  650.02329277  928.65009049  906.1651415     5.90476626\n",
      "  108.62941751  237.75002354 1076.45210736  157.3743758   680.91986694\n",
      "    6.33276855  537.11422115  159.96019504 1171.34659836   83.34418888\n",
      "  489.03062419  676.96352572  434.18544397  807.2085174  -116.19500606\n",
      "  586.77382665  127.18412464]\n"
     ]
    }
   ],
   "source": [
    "#Now for the test data\n",
    "#predict outputs of dependent variables for X_test dataset using developed linear regression function\n",
    "Y_pred_test = lr.predict(X_test)\n",
    "print(Y_pred_test)"
   ]
  },
  {
   "cell_type": "code",
   "execution_count": 13,
   "id": "5c8846ef-48a9-43a8-ab03-8dfed67910f5",
   "metadata": {},
   "outputs": [
    {
     "data": {
      "image/png": "[encoded data removed]",
      "text/plain": [
       "<Figure size 640x480 with 1 Axes>"
      ]
     },
     "metadata": {},
     "output_type": "display_data"
    }
   ],
   "source": [
    "#plot the predicted y-values against true y-values for final test\n",
    "plt.scatter(Y_test, Y_pred_test)\n",
    "plt.xlabel(\"True Test Weights\")\n",
    "plt.ylabel(\"Predicted Test Weights\")\n",
    "plt.show()"
   ]
  },
  {
   "cell_type": "code",
   "execution_count": 14,
   "id": "459e0592-a2f9-4ca2-a297-2ea0d7f6b330",
   "metadata": {},
   "outputs": [
    {
     "data": {
      "text/plain": [
       "0.87349522841804"
      ]
     },
     "execution_count": 14,
     "metadata": {},
     "output_type": "execute_result"
    }
   ],
   "source": [
    "#check accuracy of predictions on test_data using r-squared value\n",
    "r2_score(Y_test, Y_pred_test)"
   ]
  }
 ],
 "metadata": {
  "kernelspec": {
   "display_name": "Python 3 (ipykernel)",
   "language": "python",
   "name": "python3"
  },
  "language_info": {
   "codemirror_mode": {
    "name": "ipython",
    "version": 3
   },
   "file_extension": ".py",
   "mimetype": "text/x-python",
   "name": "python",
   "nbconvert_exporter": "python",
   "pygments_lexer": "ipython3",
   "version": "3.9.13"
  }
 },
 "nbformat": 4,
 "nbformat_minor": 5
}
