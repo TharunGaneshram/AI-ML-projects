{
 "cells": [
  {
   "cell_type": "code",
   "execution_count": 42,
   "id": "08e9bf56-1971-4650-9770-206bcffc5400",
   "metadata": {},
   "outputs": [],
   "source": [
    "#import pandas to read spreadsheet data\n",
    "import pandas as pd\n",
    "#import splitting function\n",
    "from sklearn.model_selection import train_test_split\n",
    "#import linear regression class\n",
    "from sklearn.linear_model import LinearRegression\n",
    "#import matplot to plot the predicted data compaired to true values\n",
    "import matplotlib.pyplot as plt\n",
    "#import r-squared value metric to check accuracy of predictions\n",
    "from sklearn.metrics import r2_score\n",
    "#import for preprocessing data\n",
    "from sklearn import preprocessing"
   ]
  },
  {
   "cell_type": "code",
   "execution_count": 43,
   "id": "216e3c58-73a1-4756-a37b-1153c954e526",
   "metadata": {},
   "outputs": [
    {
     "name": "stdout",
     "output_type": "stream",
     "text": [
      "        name  year  selling_price  km_driven    fuel seller_type transmission  \\\n",
      "0          1  2013        1550000      75800  Diesel      Dealer    Automatic   \n",
      "1          1  2017        2750000      13000  Diesel  Individual    Automatic   \n",
      "2          1  2012        2500000      48000  Diesel      Dealer    Automatic   \n",
      "3          1  2017        2900000      40000  Diesel  Individual    Automatic   \n",
      "4          1  2013        2000000     167223  Diesel      Dealer    Automatic   \n",
      "...      ...   ...            ...        ...     ...         ...          ...   \n",
      "4299  Datsun  2018         400000       4400  Petrol  Individual       Manual   \n",
      "4300  Datsun  2018         300000      25000  Petrol  Individual    Automatic   \n",
      "4301  Datsun  2015         310000      32686  Petrol      Dealer       Manual   \n",
      "4302  Datsun  2017         350000      80000  Petrol  Individual       Manual   \n",
      "4303  Datsun  2017         350000      10171  Petrol      Dealer       Manual   \n",
      "\n",
      "      owner  Ave_cost  \n",
      "0         2   2945385  \n",
      "1         1   2945385  \n",
      "2         1   2945385  \n",
      "3         1   2945385  \n",
      "4         1   2945385  \n",
      "...     ...       ...  \n",
      "4299      2    297027  \n",
      "4300      1    297027  \n",
      "4301      1    297027  \n",
      "4302      1    297027  \n",
      "4303      1    297027  \n",
      "\n",
      "[4304 rows x 9 columns]\n"
     ]
    }
   ],
   "source": [
    "#read file data and save to a variable\n",
    "data = pd.read_csv('CAR DETAILS FROM CAR DEKHO.csv')\n",
    "print(data)"
   ]
  },
  {
   "cell_type": "code",
   "execution_count": 44,
   "id": "bf81b16b-c773-4d1a-aec9-7710bd7a3975",
   "metadata": {},
   "outputs": [
    {
     "name": "stdout",
     "output_type": "stream",
     "text": [
      "      name  year  selling_price  km_driven  fuel  seller_type  transmission  \\\n",
      "0        0  2013        1550000      75800     1            0             0   \n",
      "1        0  2017        2750000      13000     1            1             0   \n",
      "2        0  2012        2500000      48000     1            0             0   \n",
      "3        0  2017        2900000      40000     1            1             0   \n",
      "4        0  2013        2000000     167223     1            0             0   \n",
      "...    ...   ...            ...        ...   ...          ...           ...   \n",
      "4299    12  2018         400000       4400     4            1             1   \n",
      "4300    12  2018         300000      25000     4            1             0   \n",
      "4301    12  2015         310000      32686     4            0             1   \n",
      "4302    12  2017         350000      80000     4            1             1   \n",
      "4303    12  2017         350000      10171     4            0             1   \n",
      "\n",
      "      owner  Ave_cost  \n",
      "0         2   2945385  \n",
      "1         1   2945385  \n",
      "2         1   2945385  \n",
      "3         1   2945385  \n",
      "4         1   2945385  \n",
      "...     ...       ...  \n",
      "4299      2    297027  \n",
      "4300      1    297027  \n",
      "4301      1    297027  \n",
      "4302      1    297027  \n",
      "4303      1    297027  \n",
      "\n",
      "[4304 rows x 9 columns]\n"
     ]
    }
   ],
   "source": [
    "#manipulate data and convert categoric features into numeric value\n",
    "data['fuel'] = data['fuel'].astype('category')\n",
    "data['fuel'] = data['fuel'].cat.codes\n",
    "data['seller_type'] = data['seller_type'].astype('category')\n",
    "data['seller_type'] = data['seller_type'].cat.codes\n",
    "data['transmission'] = data['transmission'].astype('category')\n",
    "data['transmission'] = data['transmission'].cat.codes\n",
    "data['name'] = data['name'].astype('category')\n",
    "data['name'] = data['name'].cat.codes\n",
    "print (data)"
   ]
  },
  {
   "cell_type": "code",
   "execution_count": 45,
   "id": "cebabffd-bb60-4625-88c0-50ba08c5fea6",
   "metadata": {},
   "outputs": [
    {
     "data": {
      "text/plain": [
       "name             0\n",
       "year             0\n",
       "selling_price    0\n",
       "km_driven        0\n",
       "fuel             0\n",
       "seller_type      0\n",
       "transmission     0\n",
       "owner            0\n",
       "Ave_cost         0\n",
       "dtype: int64"
      ]
     },
     "execution_count": 45,
     "metadata": {},
     "output_type": "execute_result"
    }
   ],
   "source": [
    "#check for any null values\n",
    "data.isnull().sum()\n",
    "#none means ready for regression"
   ]
  },
  {
   "cell_type": "code",
   "execution_count": 46,
   "id": "3090f1a8-c299-4eef-9a6c-3edf69d2fc88",
   "metadata": {},
   "outputs": [
    {
     "name": "stdout",
     "output_type": "stream",
     "text": [
      "      year  km_driven  fuel  seller_type  transmission  owner  Ave_cost\n",
      "0     2013      75800     1            0             0      2   2945385\n",
      "1     2017      13000     1            1             0      1   2945385\n",
      "2     2012      48000     1            0             0      1   2945385\n",
      "3     2017      40000     1            1             0      1   2945385\n",
      "4     2013     167223     1            0             0      1   2945385\n",
      "...    ...        ...   ...          ...           ...    ...       ...\n",
      "4299  2018       4400     4            1             1      2    297027\n",
      "4300  2018      25000     4            1             0      1    297027\n",
      "4301  2015      32686     4            0             1      1    297027\n",
      "4302  2017      80000     4            1             1      1    297027\n",
      "4303  2017      10171     4            0             1      1    297027\n",
      "\n",
      "[4304 rows x 7 columns]\n",
      "0       1550000\n",
      "1       2750000\n",
      "2       2500000\n",
      "3       2900000\n",
      "4       2000000\n",
      "         ...   \n",
      "4299     400000\n",
      "4300     300000\n",
      "4301     310000\n",
      "4302     350000\n",
      "4303     350000\n",
      "Name: selling_price, Length: 4304, dtype: int64\n"
     ]
    }
   ],
   "source": [
    "#Set X to be all independent variables/features x1 through xn\n",
    "X = data.drop(columns = \"selling_price\").drop(columns = \"name\")\n",
    "Y = data[\"selling_price\"]\n",
    "print (X)\n",
    "print (Y)"
   ]
  },
  {
   "cell_type": "code",
   "execution_count": 47,
   "id": "8c2b2a0c-a3e9-450d-b5d9-a0d69069e822",
   "metadata": {},
   "outputs": [],
   "source": [
    "#split the data into a training set and testing set for associated X and Y values 20% saved for testing (random state is given to make split reproduceable)\n",
    "X_train, X_test, Y_train, Y_test = train_test_split(X,Y, test_size = 0.2, random_state = 0)"
   ]
  },
  {
   "cell_type": "code",
   "execution_count": 48,
   "id": "aaaf17ac-e044-4295-a273-37d1da9fa1fc",
   "metadata": {},
   "outputs": [
    {
     "data": {
      "text/plain": [
       "LinearRegression()"
      ]
     },
     "execution_count": 48,
     "metadata": {},
     "output_type": "execute_result"
    }
   ],
   "source": [
    "#create linear regression type object\n",
    "lr = LinearRegression()\n",
    "#fit it to the training set\n",
    "lr.fit(X_train, Y_train)"
   ]
  },
  {
   "cell_type": "code",
   "execution_count": 49,
   "id": "cf0a74b3-38ff-42e7-8ea4-722c1e449aaa",
   "metadata": {},
   "outputs": [
    {
     "name": "stdout",
     "output_type": "stream",
     "text": [
      "[667692.08437124 382243.24380012  81031.65829779 ... 313950.0453628\n",
      " 294147.10989913 258379.77320828]\n"
     ]
    }
   ],
   "source": [
    "#predict outputs of dependent variables for X dataset of feature values using developed linear regression function\n",
    "Y_pred_train = lr.predict(X_train)\n",
    "print(Y_pred_train)"
   ]
  },
  {
   "cell_type": "code",
   "execution_count": 50,
   "id": "9b4783a9-90b2-4a31-ba28-e52218fc8e96",
   "metadata": {},
   "outputs": [
    {
     "data": {
      "image/png": "[encoded data removed]",
      "text/plain": [
       "<Figure size 640x480 with 1 Axes>"
      ]
     },
     "metadata": {},
     "output_type": "display_data"
    }
   ],
   "source": [
    "#plot the predicted y-values against true y-values\n",
    "plt.scatter(Y_train, Y_pred_train)\n",
    "plt.xlabel(\"True Vehicle Cost (Training)\")\n",
    "plt.ylabel(\"Predicted Vehicle Cost (Training)\")\n",
    "plt.show()"
   ]
  },
  {
   "cell_type": "code",
   "execution_count": 51,
   "id": "ef811aff-0453-481b-8203-11be47bf95a6",
   "metadata": {},
   "outputs": [
    {
     "data": {
      "text/plain": [
       "0.6866662287306111"
      ]
     },
     "execution_count": 51,
     "metadata": {},
     "output_type": "execute_result"
    }
   ],
   "source": [
    "#check accuracy of predictions using r-squared value\n",
    "r2_score(Y_train, Y_pred_train)"
   ]
  },
  {
   "cell_type": "code",
   "execution_count": 52,
   "id": "d83092bc-befb-48e0-8670-8d2b3d7b866e",
   "metadata": {},
   "outputs": [
    {
     "name": "stdout",
     "output_type": "stream",
     "text": [
      "[ 2.48850885e+05  2.97700770e+05  2.47366248e+05  1.96679685e+05\n",
      "  5.09704168e+05  6.45557654e+02  7.26802135e+05  3.25257298e+05\n",
      " -5.60489949e+03  4.08264708e+05  5.13715393e+05  4.01629286e+05\n",
      "  5.73277494e+05  7.05110976e+05  4.87835494e+05  5.34950586e+05\n",
      "  8.35630495e+05 -1.55456105e+05  3.08118021e+05  5.98118496e+05\n",
      "  2.75901648e+04  4.28234040e+05  2.18985748e+05  3.37983158e+05\n",
      "  1.09208968e+05  6.96935090e+05  3.98494335e+05  2.58004275e+05\n",
      "  6.35778555e+05  1.76824519e+05  1.96273856e+05  4.92388690e+05\n",
      "  5.79778744e+05  5.20000696e+05  1.00435095e+06  9.53103420e+04\n",
      "  7.64589912e+05  5.06169419e+05  3.25015067e+05 -1.11492045e+05\n",
      "  4.99661356e+05 -1.15592150e+05  5.00770331e+05  8.08924602e+05\n",
      "  3.63024695e+05  1.52369539e+05  8.48185577e+05  8.55815174e+05\n",
      "  7.18606326e+05  2.11455476e+05  2.77042265e+05  2.45586350e+05\n",
      "  5.13276509e+05  2.19228161e+05  5.17234440e+05  7.39023987e+05\n",
      "  1.95613481e+05  5.19848111e+05  2.94295889e+05  5.40550565e+05\n",
      "  6.22904144e+05  4.68516428e+05  2.11037043e+05  5.02980863e+05\n",
      "  7.09501973e+04  2.04813739e+06  2.72903830e+05  4.12673856e+05\n",
      "  4.44593855e+05 -2.47916174e+05  1.92183975e+06  5.03698809e+05\n",
      "  3.54358044e+05  2.27966656e+06  1.00715582e+06  2.05950135e+05\n",
      "  1.02746862e+04  4.15321088e+05  2.72686816e+06  2.65154508e+05\n",
      "  8.35473192e+04  5.10160193e+05  5.57850785e+05  6.77650604e+05\n",
      "  7.71780167e+05  8.15015980e+05  3.15559206e+05  3.32507748e+05\n",
      "  7.58687565e+05  7.57975242e+05  4.03906110e+05  4.69990176e+05\n",
      "  5.28598780e+05  5.22766951e+05  6.83821864e+05  8.23105997e+05\n",
      "  6.47710610e+05  1.63068895e+05 -1.91624327e+04  4.11676848e+05\n",
      "  9.12762354e+05  8.27782230e+05  3.15135169e+05  5.30591987e+05\n",
      "  2.97876791e+05  2.49491869e+06  5.57536595e+05  8.27782230e+05\n",
      "  4.76894615e+05  3.23262521e+05  1.43684230e+06  3.65596968e+05\n",
      "  1.72173746e+05  5.81959848e+05  1.04606062e+05  1.23378253e+05\n",
      "  2.15213240e+05  3.56887947e+05 -1.04108695e+05  7.25110966e+04\n",
      " -2.13897528e+05  2.01912682e+05  2.94128430e+05  5.54903174e+05\n",
      "  2.51016612e+06  4.91585351e+05  3.19115574e+05  5.17508966e+05\n",
      "  3.64460588e+05  6.77833329e+05  7.71780167e+05  9.02622836e+05\n",
      "  1.75913470e+04  5.23484897e+05  9.00783771e+05  4.23738878e+05\n",
      "  2.78917166e+05  7.12333755e+05  2.04825148e+06  5.24722350e+05\n",
      "  4.65900107e+05  5.47034115e+05 -7.92629449e+04  6.32382448e+05\n",
      "  1.77327222e+05  3.92841088e+05  1.43167447e+06  1.74307229e+05\n",
      "  4.14971131e+05  5.58054059e+05  6.01253771e+05  6.39203914e+05\n",
      "  6.63259105e+05  3.27072520e+05  6.03708597e+05  3.58172540e+05\n",
      "  9.59813304e+05  2.32363746e+05  8.56224172e+05  2.84026390e+06\n",
      "  1.95451902e+05  1.91622707e+05  3.44868286e+05  7.72936998e+05\n",
      "  6.32031506e+05  5.63787052e+05  8.47386771e+05  8.48713061e+05\n",
      "  1.38888618e+05  4.64911560e+05  3.20667680e+05  2.01200340e+05\n",
      "  6.11529198e+05  5.80904088e+05  7.63262731e+05  4.61191387e+05\n",
      "  1.74307229e+05  7.44768711e+04  4.89700210e+05  5.11498740e+05\n",
      "  7.05141050e+05  7.41657448e+05  2.47733185e+05  2.23157115e+05\n",
      "  3.14123313e+05  4.62427739e+05  6.12723015e+05  3.76710733e+05\n",
      " -1.43554217e+05  7.74066373e+04  1.16684847e+05 -1.07044418e+05\n",
      "  9.16890780e+05  2.70048651e+05  7.76345662e+05  1.69492665e+05\n",
      "  2.46947815e+05  5.09704168e+05  6.27322786e+05  2.01162282e+06\n",
      "  2.04205163e+06  5.52863377e+05  5.54710385e+05 -2.87555573e+05\n",
      "  5.05345628e+05  4.36172301e+05  3.08890316e+05  3.89652532e+05\n",
      "  5.39647195e+05  5.35706969e+05  4.80850820e+05  4.44593855e+05\n",
      "  8.97478881e+05  5.15745336e+04  3.68911842e+05  4.92388690e+05\n",
      "  7.52081350e+05  7.50204786e+05  3.61791618e+05  3.88493701e+05\n",
      "  1.51159726e+05  2.30293182e+05  7.51892132e+04  4.80721467e+05\n",
      "  7.75664934e+05 -3.28256394e+05  6.91476296e+05  7.05141050e+05\n",
      "  2.83165202e+05  6.05794097e+05  2.97700770e+05 -8.97289397e+04\n",
      "  4.66723898e+05  6.67224332e+05  2.24817772e+05  1.40337118e+05\n",
      "  4.05778964e+05  5.21457317e+05  5.64644369e+05  2.01162282e+06\n",
      "  7.14354714e+05  8.62175115e+05  4.85791607e+05  2.41776637e+05\n",
      "  3.94083312e+05  7.44341100e+04  1.40090422e+06  4.42933198e+05\n",
      "  3.10694957e+06  1.43684230e+06  5.13491810e+05  4.67795831e+05\n",
      "  6.26711078e+03  3.92055731e+05  5.77567781e+05  3.90125438e+05\n",
      "  9.35614768e+05  7.06554754e+05  5.81305720e+05  4.42572273e+05\n",
      "  7.22426455e+05  8.41262573e+05 -1.19396269e+04  7.65409830e+05\n",
      "  2.64924139e+05  5.20932081e+05  4.57731822e+05  1.44898994e+06\n",
      "  4.02906091e+05  4.65414263e+05  6.24691349e+05  7.80696423e+05\n",
      "  3.37983158e+05  5.44591869e+05  4.04079378e+05  1.06914285e+06\n",
      "  6.64778593e+05 -7.04079235e+03  6.80096035e+05  7.06434803e+05\n",
      "  1.65934589e+05  9.86543744e+05  6.22246300e+05  4.21496054e+05\n",
      "  4.89417414e+05  6.61691821e+05  3.30858302e+05  5.28299462e+05\n",
      "  9.70719831e+05  8.21313464e+05  5.33993723e+05  5.79519390e+05\n",
      "  3.43572769e+05  3.73042180e+05  3.00169316e+05  5.14484142e+05\n",
      "  7.32861433e+04  5.69957987e+05  6.42592516e+05  4.88426946e+05\n",
      "  6.19442510e+05  6.60762948e+05  4.97448352e+05  4.00910790e+04\n",
      "  2.35526180e+05  3.31438792e+05  5.92167552e+05  3.85835093e+05\n",
      "  3.45396643e+03  5.64555327e+05  4.44593855e+05  4.88650808e+05\n",
      "  4.79773095e+05  5.93409775e+05  6.08266497e+05  3.37605023e+05\n",
      "  2.54682909e+05  5.61272683e+05  4.88030150e+05  4.04241437e+05\n",
      "  3.42436390e+05  4.91938396e+05  4.10646276e+05 -6.31319651e+05\n",
      "  2.57189045e+05  9.09945687e+05  4.54982837e+05  6.95436710e+05\n",
      " -3.80248932e+04  7.32334645e+05  6.79022739e+05  3.00993107e+05\n",
      "  4.48985295e+05  6.22904144e+05  2.76288598e+06  2.89104295e+05\n",
      "  2.80803725e+05  1.00052237e+06  2.07920726e+05  5.33993723e+05\n",
      "  4.92262985e+05  6.72972085e+05  6.10430251e+05  7.98329452e+05\n",
      "  6.95604832e+05  8.89837669e+05  4.99443091e+05  3.68819128e+05\n",
      "  5.14484142e+05  5.27475671e+05  5.96908378e+04  4.93897988e+05\n",
      "  1.96050842e+06  4.62293118e+05  2.92287180e+05  2.86798460e+05\n",
      "  8.84028725e+05  2.41776637e+05  3.32966126e+05  3.64879021e+05\n",
      "  5.57089834e+05  6.88698868e+05  3.63024695e+05  5.03592965e+05\n",
      "  4.88030150e+05 -7.22401931e+04  4.34803899e+05  4.45868921e+05\n",
      "  6.11181278e+05  3.55578707e+05  5.95175632e+05  5.86335528e+05\n",
      "  3.43154336e+05  1.00445091e+06  5.89866465e+05  6.20986936e+05\n",
      "  4.45490298e+04  7.32334645e+05  1.15966901e+05  3.43572769e+05\n",
      "  4.27075244e+05  3.60895917e+05  7.55621519e+05  6.96679416e+05\n",
      "  4.89417414e+05  4.36172301e+05 -6.23658994e+04  6.71058594e+05\n",
      "  3.86987428e+05  1.09597524e+05  8.29368607e+05  8.17403240e+05\n",
      "  2.64630230e+05  7.79431785e+05  7.53849999e+04 -6.90638923e+04\n",
      "  7.38306041e+05 -2.91708352e+04  3.85205181e+05  5.35518659e+05\n",
      "  5.52150639e+05  1.22848385e+05 -4.54688540e+04  5.53964254e+05\n",
      "  3.13682513e+06  3.22738244e+05 -2.99946258e+04 -7.26455505e+04\n",
      "  5.89251420e+05 -7.45673004e+04  5.70774042e+05  2.48321912e+05\n",
      "  6.86011518e+05  5.62310581e+05  4.92388690e+05  4.33458804e+05\n",
      "  6.70356862e+04  6.83821864e+05  2.92991713e+05  2.01162282e+06\n",
      "  6.22904144e+05  1.81025763e+05  1.15522143e+05  3.30630071e+05\n",
      "  2.22638362e+05  5.57648701e+05  5.64205485e+05  7.55621519e+05\n",
      " -7.78270520e+04  6.11996508e+05  7.69834816e+05  5.37063043e+05\n",
      "  2.76902933e+06  4.29178535e+05  5.36893873e+05  5.96535356e+05\n",
      "  2.28390112e+05  6.29730420e+05  3.74060714e+05  9.69008229e+04\n",
      "  2.37107102e+05  6.28496757e+05  2.61966019e+05  6.32051958e+05\n",
      "  5.71279733e+05  4.30340277e+05  8.18388027e+05  7.70006047e+05\n",
      "  4.91777783e+05  3.58210131e+05  1.14944669e+05  7.22704708e+05\n",
      "  3.20667680e+05  4.73362910e+05  4.02014250e+05  4.52943168e+05\n",
      "  4.60462935e+05  5.35706969e+05  8.31002228e+05  9.87894290e+05\n",
      "  2.91868746e+05  5.60902637e+05 -1.07643445e+05  9.13027742e+05\n",
      "  5.89922687e+05  6.49367436e+05  2.80085979e+04  3.06226104e+05\n",
      "  5.61777238e+05  2.03348575e+05  5.70368684e+04  2.37116456e+05\n",
      "  6.32050498e+05  8.17403240e+05  4.31146166e+05  3.50313497e+04\n",
      "  4.78695012e+05  5.24035526e+05  7.84002019e+05  3.13164688e+05\n",
      "  5.74352078e+05  3.82599857e+05  6.16264666e+05 -3.28490199e+04\n",
      "  3.07334415e+05  3.85835093e+05  1.09179091e+05  3.79884150e+05\n",
      "  5.53964254e+05  5.02402414e+05  4.97921201e+05  1.52838032e+05\n",
      "  4.26802505e+05  6.52807886e+05  5.90425333e+05  4.89782296e+05\n",
      "  5.26301700e+05  3.90949171e+05  1.45508296e+05  8.27823220e+05\n",
      "  6.43745840e+05  2.04205163e+06  7.05110976e+05  4.06584226e+05\n",
      "  5.69090141e+05  8.10316583e+04  6.51312875e+05  7.93930661e+05\n",
      "  5.73277494e+05  5.80454015e+05  5.70455942e+05  5.41448237e+05\n",
      "  1.12831999e+06  1.58322008e+05  7.35300664e+05  5.51429607e+05\n",
      "  4.37519607e+05  4.89417414e+05  7.76509705e+05  5.79658781e+05\n",
      "  3.90513994e+05  3.42854823e+05  1.80414251e+05  5.07883369e+05\n",
      "  9.43169678e+05  6.61444270e+04  4.33528833e+05  1.90605248e+05\n",
      "  6.11181278e+05  8.43395998e+05  2.11037043e+05  3.77428680e+05\n",
      "  5.82677794e+05  2.05521164e+06  3.21385751e+05  4.66723898e+05\n",
      "  4.85475269e+05  3.26246785e+05  4.87835494e+05  4.33912618e+05\n",
      "  6.10760804e+05 -7.57329676e+04  3.58585321e+05  2.51339882e+05\n",
      "  8.47386771e+05  4.44593855e+05  4.97921201e+05  4.26036152e+05\n",
      "  2.24817772e+05 -1.66699209e+04  6.09236147e+05 -5.02786462e+04\n",
      "  4.27278376e+05  6.46168873e+05  4.51228096e+05 -1.02229854e+05\n",
      "  3.49696016e+05  6.36642938e+05  1.69492665e+05  2.42551683e+05\n",
      "  1.88551086e+06  1.37978024e+05  2.01235705e+05 -2.25019449e+04\n",
      "  3.14750160e+06  3.04075752e+05  3.08192980e+05  8.11308049e+05\n",
      "  2.13752750e+05  2.81891913e+04  1.26223594e+05  5.70476393e+05\n",
      "  4.16213355e+05  3.51922083e+05  4.69016423e+05  5.06169419e+05\n",
      "  5.07444485e+05  8.63569191e+05  9.01620637e+05  8.12802976e+05\n",
      "  3.18022972e+06  3.63286676e+05  4.80905235e+05  8.56933828e+05\n",
      "  6.71106234e+05  5.19915580e+05 -1.08201826e+05  5.97835784e+05\n",
      "  3.70230334e+05  8.74930405e+05  2.45871190e+05  2.04205163e+06\n",
      "  5.56811353e+05  3.90125438e+05 -6.14551743e+03  3.34344079e+03\n",
      "  4.34189679e+05  9.16890780e+05  1.04820551e+05  7.83185872e+05\n",
      "  1.01395355e+06  7.44341100e+04  2.68272129e+06  1.92089885e+05\n",
      "  6.78289353e+05  2.31156970e+06 -2.07015006e+03  4.25028393e+05\n",
      "  2.77448661e+05  4.43387446e+05  3.15706095e+05  7.28192308e+05\n",
      "  4.12673856e+05  2.23829076e+05  6.56159310e+05  2.52928902e+04\n",
      "  3.45945262e+05  7.49231691e+05  3.08350124e+05  4.79581449e+05\n",
      " -3.80248932e+04  3.91226180e+05  2.83511995e+06  5.52253953e+05\n",
      "  5.01386407e+04  6.65226570e+05  7.54198792e+05  8.48713061e+05\n",
      "  6.43252701e+05 -4.41417169e+03  4.71780537e+05  4.48578932e+05\n",
      "  1.46587575e+05  3.04576256e+06  8.45577583e+05  6.73239739e+05\n",
      "  7.68316766e+05  1.70683392e+05 -1.70474308e+05  1.72123751e+05\n",
      "  9.44206964e+05  3.20249246e+05  3.40235496e+05  4.95095837e+05\n",
      "  3.71235323e+05  3.20373771e+05  7.24824883e+05  6.64529075e+05\n",
      "  8.52753740e+05 -2.25019449e+04  6.74946496e+05  2.04205163e+06\n",
      "  4.24773514e+04  5.21225214e+05  4.40545981e+05  4.60416340e+05\n",
      "  8.22413369e+05  1.68454530e+05  7.28799896e+05  7.42560818e+05\n",
      "  1.60224979e+04  2.70762520e+05  3.43302020e+05  2.81222158e+05\n",
      "  2.28053008e+05  7.74746186e+05  5.24419348e+05  8.65911014e+05\n",
      "  6.27322786e+05  5.09704168e+05  8.28202546e+05  5.88632802e+05\n",
      "  7.77161415e+05  5.69698402e+05  4.92388690e+05  3.78252470e+05\n",
      "  1.03045613e+06  2.81298991e+06  3.16168299e+06  6.64753722e+05\n",
      "  8.21306867e+05  4.63072553e+05  3.31020359e+05  4.97921201e+05\n",
      "  5.60462454e+05  2.25478618e+05  5.21225214e+05  2.88247662e+05\n",
      "  3.76767833e+05  2.59244554e+05  4.38842341e+05  4.58978383e+05\n",
      "  3.87832855e+05  2.07920726e+05  6.52486737e+05  6.16595773e+05\n",
      "  2.35583280e+05  2.64889121e+06  1.94584036e+05  5.53964254e+05\n",
      "  5.60902637e+05  2.84924346e+06  6.39203914e+05  4.59385834e+05\n",
      "  5.34549919e+05  8.90212966e+05  7.81007076e+04  1.21401811e+06\n",
      "  6.20974998e+05  6.55170740e+05 -4.74826666e+03  4.61420871e+05\n",
      "  5.21225214e+05  4.84039376e+05  4.89417414e+05  2.91118871e+05\n",
      "  1.96508901e+05  3.21275409e+05  1.40843792e+06 -3.62230822e+04\n",
      "  6.54182000e+05  8.56729099e+04  6.72756842e+05  5.53964254e+05\n",
      "  3.22598872e+05  8.73240137e+05  2.30293182e+05  2.02169213e+05\n",
      "  1.25405847e+05  8.87771733e+04  3.34218049e+05  6.27322786e+05\n",
      "  2.49458291e+05  5.56204091e+05  8.14191707e+05  7.37754017e+05\n",
      "  2.58255249e+05  3.55244370e+05  5.20296341e+05  5.13491810e+05\n",
      "  7.40231547e+05  3.54637790e+05  5.76408423e+05  2.30998053e+05\n",
      "  2.53198272e+05  7.38773176e+05  5.56430150e+05  5.49402582e+05\n",
      " -1.12311195e+05  2.01023008e+05  6.12299891e+05  1.06899641e+05\n",
      " -1.80143146e+05  5.55856171e+05  3.77010246e+05  6.20986936e+05\n",
      "  4.87835494e+05  6.33519198e+05 -2.25980009e+05  5.81871906e+05\n",
      "  3.81949335e+05  4.87835494e+05  3.20057276e+05 -1.18553566e+04\n",
      "  8.09765699e+05  2.34031122e+05 -1.31351715e+04  7.05110976e+05\n",
      "  5.92585985e+05  4.16142841e+05  4.60127049e+05  4.89417414e+05\n",
      "  5.03271486e+05  4.21745865e+05  3.48735253e+05  4.57143513e+05\n",
      "  6.67224332e+05  8.24123670e+05  2.63439503e+05  3.42590551e+04\n",
      "  3.76591813e+05  7.58866600e+05  3.02042567e+05 -2.89253821e+05\n",
      "  7.00701770e+05  5.67744983e+05  1.54875069e+05  5.00636908e+05\n",
      "  6.82214357e+05  5.42899233e+05 -6.14551743e+03  4.29516486e+05\n",
      "  1.00475042e+06  6.19377789e+05 -2.22957394e+05  4.47410658e+05\n",
      " -2.37045030e+05  3.48387333e+05  4.23697475e+05  7.44105917e+05\n",
      "  3.69693586e+05 -1.03602988e+04  3.76349400e+05  8.17197083e+05\n",
      "  4.88845380e+05  2.14603718e+06  4.60127049e+05 -1.03707198e+04\n",
      "  9.67622210e+05  6.81824103e+05  2.79466921e+05  4.31919628e+05\n",
      "  2.77448661e+05  8.44610209e+05  6.32031506e+05  3.11801459e+06\n",
      "  1.58600911e+05  3.59452355e+05  2.46947815e+05  7.33005633e+05\n",
      "  4.74688305e+05  5.31010421e+05  3.44437915e+05  2.78863064e+05\n",
      "  4.52061032e+05  1.17731256e+06  2.91118871e+05  6.07899890e+05\n",
      "  6.48301346e+05  8.40218500e+05  6.22904144e+05  5.56679962e+05\n",
      "  3.86553040e+05  2.77457049e+05  3.46020841e+05  1.07452682e+05\n",
      "  2.93839338e+05  9.17380014e+04  4.80933309e+05  3.60315342e+05\n",
      "  3.50008650e+05  6.34287773e+04  5.91121913e+05  3.71129478e+05\n",
      "  1.02941709e+05  1.85767969e+06  5.33119967e+05  6.36110294e+04\n",
      "  6.84416826e+05  2.59244554e+05  4.89417414e+05  2.51812613e+05\n",
      "  6.43535412e+05 -3.87512198e+04  5.36675608e+05  4.16263798e+05\n",
      " -3.80248932e+04  4.41359650e+05  5.26086457e+05  6.05216503e+05\n",
      "  8.45450373e+05]\n"
     ]
    }
   ],
   "source": [
    "#predict outputs of dependent variables for X dataset of feature values using developed linear regression function for test\n",
    "Y_pred_test = lr.predict(X_test)\n",
    "print(Y_pred_test)"
   ]
  },
  {
   "cell_type": "code",
   "execution_count": 53,
   "id": "9c1b7c95-d911-480c-a95c-7b0e1886533e",
   "metadata": {},
   "outputs": [
    {
     "data": {
      "image/png": "[encoded data removed]",
      "text/plain": [
       "<Figure size 640x480 with 1 Axes>"
      ]
     },
     "metadata": {},
     "output_type": "display_data"
    }
   ],
   "source": [
    "#plot the predicted y-values against true y-values\n",
    "plt.scatter(Y_test, Y_pred_test)\n",
    "plt.xlabel(\"True Vehicle Cost (Test)\")\n",
    "plt.ylabel(\"Predicted Vehicle Cost (Test)\")\n",
    "plt.show()"
   ]
  },
  {
   "cell_type": "code",
   "execution_count": 54,
   "id": "85637a52-5f6e-4500-8f8a-f7cf06c0f82d",
   "metadata": {},
   "outputs": [
    {
     "data": {
      "text/plain": [
       "0.5633892385615547"
      ]
     },
     "execution_count": 54,
     "metadata": {},
     "output_type": "execute_result"
    }
   ],
   "source": [
    "#check accuracy of test predictions using r-squared value\n",
    "r2_score(Y_test, Y_pred_test)"
   ]
  }
 ],
 "metadata": {
  "kernelspec": {
   "display_name": "Python 3 (ipykernel)",
   "language": "python",
   "name": "python3"
  },
  "language_info": {
   "codemirror_mode": {
    "name": "ipython",
    "version": 3
   },
   "file_extension": ".py",
   "mimetype": "text/x-python",
   "name": "python",
   "nbconvert_exporter": "python",
   "pygments_lexer": "ipython3",
   "version": "3.9.13"
  }
 },
 "nbformat": 4,
 "nbformat_minor": 5
}
